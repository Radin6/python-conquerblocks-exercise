{
 "cells": [
  {
   "attachments": {},
   "cell_type": "markdown",
   "metadata": {},
   "source": [
    "Ejercicio 1 - FACTORIAL\n",
    "Implementa una función recursiva llamada factorial que calcule el factorial de\n",
    "un número entero positivo. El factorial de un número n se define como el\n",
    "producto de todos los números enteros positivos desde 1 hasta n.\n",
    "(El factorial de 0 y de 1 es igual a 1)"
   ]
  },
  {
   "cell_type": "code",
   "execution_count": 2,
   "metadata": {},
   "outputs": [
    {
     "name": "stdout",
     "output_type": "stream",
     "text": [
      "24\n"
     ]
    }
   ],
   "source": [
    "def factorial(n):\n",
    "    if n == 1 or n == 0:\n",
    "        return 1\n",
    "    else:\n",
    "        return n*factorial(n-1)\n",
    "\n",
    "num =input(\"Ingrese el número para calcular el factorial \")\n",
    "\n",
    "print(factorial(int(num)))"
   ]
  },
  {
   "attachments": {},
   "cell_type": "markdown",
   "metadata": {},
   "source": [
    "Ejercicio 2 - POTENCIA\n",
    "Implementa una función recursiva llamada potencia que calcule el resultado\n",
    "de elevar un número a una potencia dada. Puedes asumir que tanto el\n",
    "número como la potencia son enteros no negativos."
   ]
  },
  {
   "cell_type": "code",
   "execution_count": 6,
   "metadata": {},
   "outputs": [
    {
     "name": "stdout",
     "output_type": "stream",
     "text": [
      "243\n"
     ]
    }
   ],
   "source": [
    "def potencia(n, p):\n",
    "    if p==0:\n",
    "        return 1\n",
    "    else:\n",
    "        return n*potencia(n, p-1)\n",
    "    \n",
    "num = input(\"Ingrese el número base\")\n",
    "exp = input(\"Ingrese el exponente\")\n",
    "\n",
    "print(potencia(int(num), int(exp)))"
   ]
  },
  {
   "attachments": {},
   "cell_type": "markdown",
   "metadata": {},
   "source": [
    "Ejercicio 3 - SUMA ELEMENTOS DE UNA LISTA\n",
    "Crea una función recursiva llamada suma_lista que calcule la suma de todos\n",
    "los elementos de una lista de enteros. Puedes asumir que la lista no está\n",
    "vacía."
   ]
  },
  {
   "cell_type": "code",
   "execution_count": 14,
   "metadata": {},
   "outputs": [
    {
     "name": "stdout",
     "output_type": "stream",
     "text": [
      "17\n"
     ]
    }
   ],
   "source": [
    "def suma_lista(lista_):\n",
    "    if len(lista_) == 1: # Si solo queda un num en la lista\n",
    "        return lista_[0]\n",
    "    else:\n",
    "        # Llamamos a la función con la lista pero sin el último elemento y lo sumamos al último elemento\n",
    "        # Así en cada recursión se le suma el último número\n",
    "        return suma_lista(lista_[:-1])+lista_[-1]\n",
    "\n",
    "lista = [1,3,5,8]\n",
    "\n",
    "print(suma_lista(lista))"
   ]
  },
  {
   "attachments": {},
   "cell_type": "markdown",
   "metadata": {},
   "source": [
    "Ejercicio 4 = NUMERO TRIANGULAR\n",
    "Crea una función recursiva llamada numero_triangular que calcule el n-ésimo\n",
    "número triangular. Un número triangular se obtiene al sumar todos los\n",
    "números naturales desde 1 hasta n."
   ]
  },
  {
   "cell_type": "code",
   "execution_count": 18,
   "metadata": {},
   "outputs": [
    {
     "name": "stdout",
     "output_type": "stream",
     "text": [
      "10\n"
     ]
    }
   ],
   "source": [
    "def numero_triangular(n):\n",
    "    if n == 1:\n",
    "        return 1\n",
    "    else:\n",
    "        return n+numero_triangular(n-1)\n",
    "    \n",
    "num = int(input(\"Ingresa un número para calcular el número triangular\"))\n",
    "\n",
    "print(numero_triangular(num))"
   ]
  }
 ],
 "metadata": {
  "kernelspec": {
   "display_name": "base",
   "language": "python",
   "name": "python3"
  },
  "language_info": {
   "codemirror_mode": {
    "name": "ipython",
    "version": 3
   },
   "file_extension": ".py",
   "mimetype": "text/x-python",
   "name": "python",
   "nbconvert_exporter": "python",
   "pygments_lexer": "ipython3",
   "version": "3.9.16"
  },
  "orig_nbformat": 4
 },
 "nbformat": 4,
 "nbformat_minor": 2
}
